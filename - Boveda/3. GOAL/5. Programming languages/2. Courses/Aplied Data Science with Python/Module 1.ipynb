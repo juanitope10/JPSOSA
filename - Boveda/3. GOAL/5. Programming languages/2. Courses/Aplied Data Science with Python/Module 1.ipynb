{
 "cells": [
  {
   "cell_type": "code",
   "execution_count": null,
   "id": "5feba0cd-bbd6-413b-b376-d65775afc919",
   "metadata": {},
   "outputs": [],
   "source": [
    "x = 5\n",
    "print(5)"
   ]
  },
  {
   "cell_type": "code",
   "execution_count": null,
   "id": "2ed36b26-3c6c-4ffa-b939-7b8ed7fbc628",
   "metadata": {},
   "outputs": [],
   "source": [
    "i = 1 \n",
    "while i < 100:\n",
    "    i = 1 "
   ]
  },
  {
   "cell_type": "code",
   "execution_count": null,
   "id": "ebbba6e0-d336-4168-bdaf-e6dd6a8e6a34",
   "metadata": {},
   "outputs": [],
   "source": []
  },
  {
   "cell_type": "code",
   "execution_count": null,
   "id": "ff010e63-ba58-4a25-be06-e224017c95c3",
   "metadata": {},
   "outputs": [],
   "source": []
  }
 ],
 "metadata": {
  "kernelspec": {
   "display_name": "Python 3 (ipykernel)",
   "language": "python",
   "name": "python3"
  },
  "language_info": {
   "codemirror_mode": {
    "name": "ipython",
    "version": 3
   },
   "file_extension": ".py",
   "mimetype": "text/x-python",
   "name": "python",
   "nbconvert_exporter": "python",
   "pygments_lexer": "ipython3",
   "version": "3.12.5"
  }
 },
 "nbformat": 4,
 "nbformat_minor": 5
}
